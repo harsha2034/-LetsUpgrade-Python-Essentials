{
 "cells": [
  {
   "cell_type": "code",
   "execution_count": null,
   "metadata": {
    "colab": {},
    "colab_type": "code",
    "id": "inKEFRuhrvWz"
   },
   "outputs": [],
   "source": [
    "# Question 1\n",
    "altitude=input(\"enter any altitude-\")\n",
    "altitude=int(altitude)\n",
    "if  altitude<1000:\n",
    "    print(\"safe to land\")\n",
    "elif altitude>1000 and altitude<=5000:\n",
    "    print(\"bring down to 1000\")\n",
    "else:\n",
    "    print(\"go around and try later\")\n",
    "    "
   ]
  },
  {
   "cell_type": "code",
   "execution_count": 6,
   "metadata": {
    "colab": {
     "base_uri": "https://localhost:8080/",
     "height": 799
    },
    "colab_type": "code",
    "executionInfo": {
     "elapsed": 1227,
     "status": "ok",
     "timestamp": 1599284304625,
     "user": {
      "displayName": "Harikrishnan B",
      "photoUrl": "",
      "userId": "04548878590823621939"
     },
     "user_tz": -330
    },
    "id": "1L049Bkju25_",
    "outputId": "d94968a0-1578-4f36-8463-3c17a46624f5"
   },
   "outputs": [
    {
     "name": "stdout",
     "output_type": "stream",
     "text": [
      "2\n",
      "3\n",
      "5\n",
      "7\n",
      "11\n",
      "13\n",
      "17\n",
      "19\n",
      "23\n",
      "29\n",
      "31\n",
      "37\n",
      "41\n",
      "43\n",
      "47\n",
      "53\n",
      "59\n",
      "61\n",
      "67\n",
      "71\n",
      "73\n",
      "79\n",
      "83\n",
      "89\n",
      "97\n",
      "101\n",
      "103\n",
      "107\n",
      "109\n",
      "113\n",
      "127\n",
      "131\n",
      "137\n",
      "139\n",
      "149\n",
      "151\n",
      "157\n",
      "163\n",
      "167\n",
      "173\n",
      "179\n",
      "181\n",
      "191\n",
      "193\n",
      "197\n",
      "199\n"
     ]
    }
   ],
   "source": [
    "# Question 2\n",
    "for n in range(1,201):\n",
    "  if(n>1):\n",
    "    for i in range(2,n):\n",
    "      if(n%i==0):\n",
    "        break\n",
    "    else:\n",
    "      print(n)"
   ]
  }
 ],
 "metadata": {
  "colab": {
   "authorship_tag": "ABX9TyNdbRb4cA/ew6QFGlKKAgTl",
   "collapsed_sections": [],
   "name": "Day3Assignment.ipynb",
   "provenance": []
  },
  "kernelspec": {
   "display_name": "Python 3",
   "language": "python",
   "name": "python3"
  },
  "language_info": {
   "codemirror_mode": {
    "name": "ipython",
    "version": 3
   },
   "file_extension": ".py",
   "mimetype": "text/x-python",
   "name": "python",
   "nbconvert_exporter": "python",
   "pygments_lexer": "ipython3",
   "version": "3.7.4"
  }
 },
 "nbformat": 4,
 "nbformat_minor": 1
}
