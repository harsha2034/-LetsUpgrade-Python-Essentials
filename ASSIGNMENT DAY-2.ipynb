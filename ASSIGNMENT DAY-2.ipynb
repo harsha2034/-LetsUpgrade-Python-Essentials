{
 "cells": [
  {
   "cell_type": "code",
   "execution_count": null,
   "metadata": {
    "colab": {
     "base_uri": "https://localhost:8080/",
     "height": 51
    },
    "colab_type": "code",
    "executionInfo": {
     "elapsed": 1586,
     "status": "ok",
     "timestamp": 1599233443087,
     "user": {
      "displayName": "Harikrishnan B",
      "photoUrl": "",
      "userId": "04548878590823621939"
     },
     "user_tz": -330
    },
    "id": "yX6McPXCtKqu",
    "outputId": "97db426e-5a61-4983-bd29-c739b3fb96d3"
   },
   "outputs": [
    {
     "name": "stdout",
     "output_type": "stream",
     "text": [
      "0\n",
      "['b', 'c', 4, 6, 8]\n"
     ]
    }
   ],
   "source": [
    "# 1) List and it's default functions\n",
    "list=[\"a\",\"b\",2,4,6]\n",
    "list.append(8)\n",
    "list.insert(2,\"c\")\n",
    "list.pop(3)\n",
    "list.remove(\"a\")\n",
    "print(list.index(\"b\"))"
   ]
  },
  {
   "cell_type": "code",
   "execution_count": 2,
   "metadata": {
    "colab": {
     "base_uri": "https://localhost:8080/",
     "height": 88
    },
    "colab_type": "code",
    "executionInfo": {
     "elapsed": 2148,
     "status": "ok",
     "timestamp": 1599272884096,
     "user": {
      "displayName": "Harikrishnan B",
      "photoUrl": "",
      "userId": "04548878590823621939"
     },
     "user_tz": -330
    },
    "id": "19Vte30pviLN",
    "outputId": "72bea017-ac39-4015-d63c-9fc8ba1bd200"
   },
   "outputs": [
    {
     "name": "stdout",
     "output_type": "stream",
     "text": [
      "dict_items([(0, 'a'), (1, 'b'), (2, 'c')])\n",
      "dict_keys([0, 1, 2])\n",
      "dict_values(['a', 'b', 'c'])\n"
     ]
    }
   ],
   "source": [
    "# 2) dictionary and it's default functions\n",
    "dic={0:\"a\",1:\"b\",2:\"c\"}\n",
    "print(dic.items())\n",
    "print(dic.keys())\n",
    "print(dic.values())\n",
    "dic2=dic.copy()"
   ]
  },
  {
   "cell_type": "code",
   "execution_count": 4,
   "metadata": {
    "colab": {
     "base_uri": "https://localhost:8080/",
     "height": 34
    },
    "colab_type": "code",
    "executionInfo": {
     "elapsed": 889,
     "status": "ok",
     "timestamp": 1599273221649,
     "user": {
      "displayName": "Harikrishnan B",
      "photoUrl": "",
      "userId": "04548878590823621939"
     },
     "user_tz": -330
    },
    "id": "Uhgr5uThF_O-",
    "outputId": "b11f4250-55cf-40c0-c07e-fe8af5bf7224"
   },
   "outputs": [
    {
     "name": "stdout",
     "output_type": "stream",
     "text": [
      "6\n"
     ]
    }
   ],
   "source": [
    "# 3) set and it's default functions\n",
    "sets={2,4,6,8}\n",
    "sets.add(10)\n",
    "sets.remove(2)\n",
    "sets.discard(4)\n",
    "print(sets.pop())"
   ]
  },
  {
   "cell_type": "code",
   "execution_count": 5,
   "metadata": {
    "colab": {
     "base_uri": "https://localhost:8080/",
     "height": 51
    },
    "colab_type": "code",
    "executionInfo": {
     "elapsed": 1197,
     "status": "ok",
     "timestamp": 1599273518023,
     "user": {
      "displayName": "Harikrishnan B",
      "photoUrl": "",
      "userId": "04548878590823621939"
     },
     "user_tz": -330
    },
    "id": "CjR38aXDHNFb",
    "outputId": "70048969-139b-4e79-9b06-9bf86a687f11"
   },
   "outputs": [
    {
     "name": "stdout",
     "output_type": "stream",
     "text": [
      "2\n",
      "3\n"
     ]
    }
   ],
   "source": [
    "# 4) tuple and it's default functions\n",
    "tup=(1,2,2,4,4,4,4)\n",
    "print(tup.count(2))\n",
    "print(tup.index(4))"
   ]
  },
  {
   "cell_type": "code",
   "execution_count": 9,
   "metadata": {
    "colab": {
     "base_uri": "https://localhost:8080/",
     "height": 85
    },
    "colab_type": "code",
    "executionInfo": {
     "elapsed": 962,
     "status": "ok",
     "timestamp": 1599273966249,
     "user": {
      "displayName": "Harikrishnan B",
      "photoUrl": "",
      "userId": "04548878590823621939"
     },
     "user_tz": -330
    },
    "id": "JF0LZw1QIb88",
    "outputId": "ac1c85ff-3bcf-48b0-df9d-3d03da284758"
   },
   "outputs": [
    {
     "name": "stdout",
     "output_type": "stream",
     "text": [
      "hello world\n",
      "HELLO WORLD\n",
      "Hello world\n",
      "h-e-l-l-o- -w-o-r-l-d\n"
     ]
    }
   ],
   "source": [
    "# 5) string and it's default functions\n",
    "string=\"hello world\"\n",
    "print(string.lower())\n",
    "print(string.upper())\n",
    "print(string.capitalize())\n",
    "print('-'.join(string))"
   ]
  }
 ],
 "metadata": {
  "colab": {
   "authorship_tag": "ABX9TyMeb4HDWUjQHCKYwjMLCJZU",
   "collapsed_sections": [],
   "mount_file_id": "1v9IuCa7ElvlylpXFPwSdDvqANesFQhG_",
   "name": "Day2Assignment.ipynb",
   "provenance": []
  },
  "kernelspec": {
   "display_name": "Python 3",
   "language": "python",
   "name": "python3"
  },
  "language_info": {
   "codemirror_mode": {
    "name": "ipython",
    "version": 3
   },
   "file_extension": ".py",
   "mimetype": "text/x-python",
   "name": "python",
   "nbconvert_exporter": "python",
   "pygments_lexer": "ipython3",
   "version": "3.7.4"
  }
 },
 "nbformat": 4,
 "nbformat_minor": 1
}
